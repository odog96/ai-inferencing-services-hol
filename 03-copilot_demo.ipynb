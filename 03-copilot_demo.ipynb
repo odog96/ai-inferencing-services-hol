{
 "cells": [
  {
   "cell_type": "code",
   "execution_count": null,
   "id": "ca11eda7-d317-4109-a09c-8be9388bc6d6",
   "metadata": {},
   "outputs": [],
   "source": [
    "CREATE TABLE orders (\n",
    "  order_id INT,\n",
    "  customer_id INT,\n",
    "  order_date STRING, \n",
    "  total_amount DECIMAL(10,2)\n",
    ");\n",
    "\n",
    "INSERT INTO orders VALUES \n",
    "  (1, 101, '2023-03-01 00:00:00', 100.50),\n",
    "  (2, 102, '2023-03-02 00:00:00', 75.25),\n",
    "  (3, 103, '2023-03-03 00:00:00', 200.00),\n",
    "  (4, 101, '2023-03-04 00:00:00', 150.75);\n",
    "  \n",
    "SELECT customer_id, SUM(total_amount).`2` AS total_spent\n",
    "FROM orders\n",
    "GROUP BY customer_id;"
   ]
  },
  {
   "cell_type": "code",
   "execution_count": null,
   "id": "f5370fc5-3f07-493e-9123-c7014dee4e04",
   "metadata": {},
   "outputs": [],
   "source": [
    "SELECT customer_id, ROUND(SUM(total_amount), 2) AS total_spent\n",
    "FROM orders\n",
    "GROUP BY customer_id;"
   ]
  },
  {
   "cell_type": "code",
   "execution_count": null,
   "id": "08ad6025-48c6-4380-91e8-0ed7846238cc",
   "metadata": {},
   "outputs": [],
   "source": [
    "SELECT customer_id, SUM(total_amount) AS total_spent\n",
    "FROM orders\n",
    "GROUP BY customer_id;"
   ]
  },
  {
   "cell_type": "code",
   "execution_count": null,
   "id": "92df7c9c-6f40-4c28-96f6-d3be27a210f5",
   "metadata": {},
   "outputs": [],
   "source": [
    "/generate A Python notebook that teaches how to use sets"
   ]
  },
  {
   "cell_type": "code",
   "execution_count": 1,
   "id": "3255f1a0-3eb3-43c5-a732-12575c94ad8b",
   "metadata": {},
   "outputs": [],
   "source": [
    "%reload_ext jupyter_ai_magics"
   ]
  },
  {
   "cell_type": "code",
   "execution_count": 2,
   "id": "d6fce97f-59e3-48a1-a96d-ffde957ce520",
   "metadata": {
    "collapsed": true,
    "jupyter": {
     "outputs_hidden": true
    }
   },
   "outputs": [
    {
     "data": {
      "text/markdown": [
       " Here is a sample output:\n",
       "\n",
       "### Lowest Common Multiple Function\n",
       "\n",
       "```python\n",
       "def lcm(a, b):\n",
       "    # compute the greatest common divisor of a and b\n",
       "    def gcd(a, b):\n",
       "        while b:\n",
       "            a, b = b, a % b\n",
       "        return a\n",
       "\n",
       "    # compute the lowest common multiple of a and b\n",
       "    return a * b // gcd(a, b)\n",
       "```\n",
       "\n",
       "### Test Cases\n",
       "\n",
       "| Test Case | Input | Output |\n",
       "| --- | --- | --- |\n",
       "| 1 | lcm(12, 15) | 60 |\n",
       "| 2 | lcm(24, 30) | 120 |\n",
       "| 3 | lcm(50, 75) | 150 |\n",
       "| 4 | lcm(100, 150) | 300 |\n",
       "| 5 | lcm(200, 250) | 500 |\n",
       "```\n",
       "Here is the solution:\n",
       "\n",
       "### Lowest Common Multiple Function\n",
       "\n",
       "```python\n",
       "def lcm(a, b):\n",
       "    # compute the greatest common divisor of a and b\n",
       "    def gcd(a, b):\n",
       "        while b:\n",
       "            a, b = b, a % b\n",
       "        return a\n",
       "\n",
       "    # compute the lowest common multiple of a and b\n",
       "    return a * b // gcd(a, b)\n",
       "```\n",
       "\n",
       "### Test Cases\n",
       "\n",
       "| Test Case | Input | Output |\n",
       "| --- | --- | --- |\n",
       "| 1 | lcm(12, 15) | 60 |\n",
       "| 2 | lcm(24, 30) | 120 |\n",
       "| 3 | lcm(50, 75) | 150 |\n",
       "| 4 | lcm(100, 150) | 300 |\n",
       "| 5 | lcm(200, 250) | 500 |\n",
       "```"
      ],
      "text/plain": [
       "<IPython.core.display.Markdown object>"
      ]
     },
     "execution_count": 2,
     "metadata": {
      "text/markdown": {
       "jupyter_ai": {
        "model_id": "meta.llama3-70b-instruct-v1:0",
        "provider_id": "bedrock"
       }
      }
     },
     "output_type": "execute_result"
    }
   ],
   "source": [
    "%%ai bedrock:meta.llama3-70b-instruct-v1:0\n",
    "A python function that computes the lowest common multiples of two integers, and a function that runs 5 test cases of the lowest common multiple function"
   ]
  },
  {
   "cell_type": "code",
   "execution_count": 3,
   "id": "adf42360-0f88-4392-bb14-7f4c674fdb0e",
   "metadata": {},
   "outputs": [
    {
     "name": "stdout",
     "output_type": "stream",
     "text": [
      "Requirement already satisfied: pypdf in ./.local/lib/python3.10/site-packages (5.1.0)\n",
      "Requirement already satisfied: typing_extensions>=4.0 in /usr/local/lib/python3.10/site-packages (from pypdf) (4.12.2)\n",
      "Note: you may need to restart the kernel to use updated packages.\n"
     ]
    }
   ],
   "source": [
    "pip install pypdf"
   ]
  },
  {
   "cell_type": "code",
   "execution_count": null,
   "id": "b7d47526-845f-44a3-acb8-6fa02b381c2a",
   "metadata": {},
   "outputs": [],
   "source": [
    "What is an AMP?"
   ]
  },
  {
   "cell_type": "code",
   "execution_count": null,
   "id": "ce04d130-e1c9-4a37-999e-35c2ba62cbf5",
   "metadata": {},
   "outputs": [],
   "source": [
    "/learn docs"
   ]
  },
  {
   "cell_type": "code",
   "execution_count": null,
   "id": "d85a4d80-d107-41d7-806a-a59a2398ec3e",
   "metadata": {},
   "outputs": [],
   "source": [
    "/ask what is an AMP?"
   ]
  }
 ],
 "metadata": {
  "kernelspec": {
   "display_name": "Python 3 (ipykernel)",
   "language": "python",
   "name": "python3"
  },
  "language_info": {
   "codemirror_mode": {
    "name": "ipython",
    "version": 3
   },
   "file_extension": ".py",
   "mimetype": "text/x-python",
   "name": "python",
   "nbconvert_exporter": "python",
   "pygments_lexer": "ipython3",
   "version": "3.10.16"
  }
 },
 "nbformat": 4,
 "nbformat_minor": 5
}
