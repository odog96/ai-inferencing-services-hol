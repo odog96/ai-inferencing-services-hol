{
 "cells": [
  {
   "cell_type": "code",
   "execution_count": 1,
   "id": "2a68693d-c5c8-4a81-9f55-18cd5dafa8c5",
   "metadata": {},
   "outputs": [],
   "source": [
    "import os"
   ]
  },
  {
   "cell_type": "code",
   "execution_count": 2,
   "id": "61e72342-c565-49dc-9f20-baeb4e370a59",
   "metadata": {},
   "outputs": [
    {
     "data": {
      "text/plain": [
       "'https://ai-inference-vision-instruct.ainf-cdp.vayb-xokg.cloudera.site/namespaces/serving-default/endpoints/llama-32-11b-vision-4xa10g/v1'"
      ]
     },
     "execution_count": 2,
     "metadata": {},
     "output_type": "execute_result"
    }
   ],
   "source": [
    "os.environ['OPENAI_API_BASE']"
   ]
  },
  {
   "cell_type": "code",
   "execution_count": null,
   "id": "5f0c92e6-fdfb-4dff-a355-1cba32d1dbe2",
   "metadata": {},
   "outputs": [],
   "source": []
  }
 ],
 "metadata": {
  "kernelspec": {
   "display_name": "Python 3 (ipykernel)",
   "language": "python",
   "name": "python3"
  },
  "language_info": {
   "codemirror_mode": {
    "name": "ipython",
    "version": 3
   },
   "file_extension": ".py",
   "mimetype": "text/x-python",
   "name": "python",
   "nbconvert_exporter": "python",
   "pygments_lexer": "ipython3",
   "version": "3.10.16"
  }
 },
 "nbformat": 4,
 "nbformat_minor": 5
}
