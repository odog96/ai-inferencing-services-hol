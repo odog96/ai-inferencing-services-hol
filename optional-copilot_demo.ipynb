{
 "cells": [
  {
   "cell_type": "code",
   "execution_count": 1,
   "id": "ca11eda7-d317-4109-a09c-8be9388bc6d6",
   "metadata": {},
   "outputs": [
    {
     "name": "stdout",
     "output_type": "stream",
     "text": [
      "The average temperature is: 83.17\n"
     ]
    }
   ],
   "source": [
    "# Creating a list of temperatures\n",
    "temperatures = [75, 82, 79, 88, 91, 84]\n",
    "\n",
    "# Calculating average temperature\n",
    "average = 0\n",
    "for temp in temperatures:  # Added colon after for loop\n",
    "    average += temp\n",
    "\n",
    "average = average / len(temperatures)\n",
    "print(f\"The average temperature is: {average:.2f}\")  # Added formatting for 2 decimal places"
   ]
  },
  {
   "cell_type": "markdown",
   "id": "f038df2e-1bf7-4e03-b601-a7533b07db84",
   "metadata": {},
   "source": [
    "/generate A Python notebook that teaches how to use sets"
   ]
  },
  {
   "cell_type": "code",
   "execution_count": 2,
   "id": "3255f1a0-3eb3-43c5-a732-12575c94ad8b",
   "metadata": {},
   "outputs": [],
   "source": [
    "%reload_ext jupyter_ai_magics"
   ]
  },
  {
   "cell_type": "code",
   "execution_count": 6,
   "id": "d6fce97f-59e3-48a1-a96d-ffde957ce520",
   "metadata": {},
   "outputs": [],
   "source": [
    "%%ai bedrock:anthropic.claude-v2:1\n",
    "A python function that computes the lowest common multiples of two integers, and a function that runs 5 test cases of the lowest common multiple function"
   ]
  },
  {
   "cell_type": "code",
   "execution_count": null,
   "id": "c08c7e40-9375-4860-83a2-256afdb72f73",
   "metadata": {},
   "outputs": [],
   "source": [
    "/ask What is the main purpose of the ChatClient class in llm_app_with_rerank.py?"
   ]
  },
  {
   "cell_type": "code",
   "execution_count": null,
   "id": "3d0f7699-1a3e-41eb-9e01-2d6840c22fd7",
   "metadata": {},
   "outputs": [],
   "source": [
    "/ask How does the get_responses function work with Pinecone for vector search?"
   ]
  },
  {
   "cell_type": "code",
   "execution_count": null,
   "id": "ebf99403-5bad-411f-b421-99b29669c8f2",
   "metadata": {},
   "outputs": [],
   "source": [
    "/ask What models can be selected in the Gradio interface and what are their parameters?"
   ]
  }
 ],
 "metadata": {
  "kernelspec": {
   "display_name": "Python 3 (ipykernel)",
   "language": "python",
   "name": "python3"
  },
  "language_info": {
   "codemirror_mode": {
    "name": "ipython",
    "version": 3
   },
   "file_extension": ".py",
   "mimetype": "text/x-python",
   "name": "python",
   "nbconvert_exporter": "python",
   "pygments_lexer": "ipython3",
   "version": "3.11.12"
  }
 },
 "nbformat": 4,
 "nbformat_minor": 5
}
