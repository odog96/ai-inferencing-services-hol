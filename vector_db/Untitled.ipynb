{
 "cells": [
  {
   "cell_type": "code",
   "execution_count": 1,
   "id": "b587e105-75ad-488d-8311-89b084f0540c",
   "metadata": {},
   "outputs": [],
   "source": [
    "import requests\n",
    "import json"
   ]
  },
  {
   "cell_type": "code",
   "execution_count": 20,
   "id": "7a2e2678-d6ed-4593-b473-665d8922aeca",
   "metadata": {},
   "outputs": [],
   "source": [
    "base_url = \"https://ai-inference.ainf-cdp.vayb-xokg.cloudera.site/namespaces/serving-default/endpoints/mistral-4b-rerank-a10g/v1/ranking\"\n",
    "#/retrieval/nvidia/nv-rerankqa-mistral-4b-v3/reranking\"\n",
    "# Load API key\n",
    "OPENAI_API_KEY = json.load(open(\"/tmp/jwt\"))[\"access_token\"]"
   ]
  },
  {
   "cell_type": "code",
   "execution_count": null,
   "id": "81c8e795-9a13-4d73-a46c-b96b95860b1a",
   "metadata": {},
   "outputs": [],
   "source": [
    "# headers = {\n",
    "#     \"Authorization\": \"Bearer $API_KEY_REQUIRED_IF_EXECUTING_OUTSIDE_NGC\","
   ]
  },
  {
   "cell_type": "code",
   "execution_count": 24,
   "id": "b36c1b16-fbc9-444b-adf4-8f1cd0e3ac5e",
   "metadata": {},
   "outputs": [],
   "source": [
    "\n",
    "#invoke_url = \"https://ai.api.nvidia.com/v1/retrieval/nvidia/nv-rerankqa-mistral-4b-v3/reranking\"\n",
    "invoke_url = base_url\n",
    "headers = {\n",
    "    \"Authorization\": \"Bearer \"+OPENAI_API_KEY,\n",
    "    \"Accept\": \"application/json\",\n",
    "}\n",
    "\n",
    "payload = {\n",
    "  \"model\": \"nvidia/nv-rerankqa-mistral-4b-v3\",\n",
    "  \"query\": {\n",
    "    \"text\": \"What is the GPU memory bandwidth of H100 SXM?\"\n",
    "  },\n",
    "  \"passages\": [\n",
    "    {\n",
    "      \"text\": \"The Hopper GPU is paired with the Grace CPU using NVIDIA's ultra-fast chip-to-chip interconnect, delivering 900GB/s of bandwidth, 7X faster than PCIe Gen5. This innovative design will deliver up to 30X higher aggregate system memory bandwidth to the GPU compared to today's fastest servers and up to 10X higher performance for applications running terabytes of data.\"\n",
    "    },\n",
    "    {\n",
    "      \"text\": \"A100 provides up to 20X higher performance over the prior generation and can be partitioned into seven GPU instances to dynamically adjust to shifting demands. The A100 80GB debuts the world's fastest memory bandwidth at over 2 terabytes per second (TB/s) to run the largest models and datasets.\"\n",
    "    },\n",
    "    {\n",
    "      \"text\": \"Accelerated servers with H100 deliver the compute power—along with 3 terabytes per second (TB/s) of memory bandwidth per GPU and scalability with NVLink and NVSwitch™.\"\n",
    "    }\n",
    "  ]\n",
    "}"
   ]
  },
  {
   "cell_type": "code",
   "execution_count": 25,
   "id": "0aa32f03-3286-45aa-9518-c233207c4368",
   "metadata": {},
   "outputs": [],
   "source": [
    "#print(payload)"
   ]
  },
  {
   "cell_type": "code",
   "execution_count": 26,
   "id": "f8871a45-9f75-49f2-9d0c-10b09e6affbf",
   "metadata": {},
   "outputs": [
    {
     "name": "stdout",
     "output_type": "stream",
     "text": [
      "{'rankings': [{'index': 2, 'logit': 10.5859375}, {'index': 0, 'logit': 0.57763671875}, {'index': 1, 'logit': -0.09716796875}]}\n"
     ]
    }
   ],
   "source": [
    "# re-use connections\n",
    "session = requests.Session()\n",
    "\n",
    "response = session.post(invoke_url, headers=headers, json=payload)\n",
    "\n",
    "response.raise_for_status()\n",
    "response_body = response.json()\n",
    "print(response_body)"
   ]
  },
  {
   "cell_type": "code",
   "execution_count": null,
   "id": "612f7810-e610-45cb-b519-9e8891c6a3c3",
   "metadata": {},
   "outputs": [],
   "source": []
  }
 ],
 "metadata": {
  "kernelspec": {
   "display_name": "Python 3 (ipykernel)",
   "language": "python",
   "name": "python3"
  },
  "language_info": {
   "codemirror_mode": {
    "name": "ipython",
    "version": 3
   },
   "file_extension": ".py",
   "mimetype": "text/x-python",
   "name": "python",
   "nbconvert_exporter": "python",
   "pygments_lexer": "ipython3",
   "version": "3.10.16"
  }
 },
 "nbformat": 4,
 "nbformat_minor": 5
}
